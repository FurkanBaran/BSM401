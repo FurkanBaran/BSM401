{
 "cells": [
  {
   "cell_type": "markdown",
   "metadata": {
    "id": "ku30yx4fzuT9"
   },
   "source": [
    "# SETUP"
   ]
  },
  {
   "cell_type": "code",
   "execution_count": null,
   "metadata": {
    "colab": {
     "base_uri": "https://localhost:8080/"
    },
    "executionInfo": {
     "elapsed": 61,
     "status": "ok",
     "timestamp": 1750359529856,
     "user": {
      "displayName": "Furkan Baran",
      "userId": "16929650656431150556"
     },
     "user_tz": -180
    },
    "id": "-Xaou5UJuUhr",
    "outputId": "1c1d9564-f4d7-4f09-d6ca-aa2e35d03195"
   },
   "outputs": [
    {
     "name": "stdout",
     "output_type": "stream",
     "text": [
      "/content\n"
     ]
    }
   ],
   "source": [
    "import os\n",
    "HOME = os.getcwd()\n",
    "print(HOME)"
   ]
  },
  {
   "cell_type": "code",
   "execution_count": null,
   "metadata": {
    "colab": {
     "base_uri": "https://localhost:8080/"
    },
    "collapsed": true,
    "executionInfo": {
     "elapsed": 136385,
     "status": "ok",
     "timestamp": 1750359666237,
     "user": {
      "displayName": "Furkan Baran",
      "userId": "16929650656431150556"
     },
     "user_tz": -180
    },
    "id": "GbU5zA4BvJ9X",
    "outputId": "f45d0682-fbfe-4074-90f6-32e464d865e9"
   },
   "outputs": [],
   "source": [
    "!pip install boxmot ultralytics supervision"
   ]
  },
  {
   "cell_type": "code",
   "execution_count": null,
   "metadata": {
    "colab": {
     "base_uri": "https://localhost:8080/"
    },
    "executionInfo": {
     "elapsed": 5312,
     "status": "ok",
     "timestamp": 1750359671552,
     "user": {
      "displayName": "Furkan Baran",
      "userId": "16929650656431150556"
     },
     "user_tz": -180
    },
    "id": "y875yed8v0KR",
    "outputId": "9171604f-07f1-4a99-8985-ef526db755ad"
   },
   "outputs": [
    {
     "name": "stdout",
     "output_type": "stream",
     "text": [
      "Creating new Ultralytics Settings v0.0.6 file ✅ \n",
      "View Ultralytics Settings with 'yolo settings' or at '/root/.config/Ultralytics/settings.json'\n",
      "Update Settings with 'yolo settings key=value', i.e. 'yolo settings runs_dir=path/to/dir'. For help see https://docs.ultralytics.com/quickstart/#ultralytics-settings.\n"
     ]
    }
   ],
   "source": [
    "import ultralytics\n",
    "from ultralytics import YOLO\n",
    "import supervision as sv\n",
    "import cv2\n",
    "import numpy as np\n",
    "import torch\n",
    "import time\n",
    "import matplotlib.pyplot as plt\n",
    "import pandas as pd"
   ]
  },
  {
   "cell_type": "markdown",
   "metadata": {
    "id": "kYOR2aiwu5Kg"
   },
   "source": [
    "## GOOGLE DRIVE MOUNT"
   ]
  },
  {
   "cell_type": "code",
   "execution_count": null,
   "metadata": {
    "colab": {
     "base_uri": "https://localhost:8080/"
    },
    "executionInfo": {
     "elapsed": 7922,
     "status": "ok",
     "timestamp": 1750360299180,
     "user": {
      "displayName": "Furkan Baran",
      "userId": "16929650656431150556"
     },
     "user_tz": -180
    },
    "id": "YpAicv4nufw1",
    "outputId": "11f4d27d-d8d2-4fa5-af37-24c2340401f6"
   },
   "outputs": [
    {
     "name": "stdout",
     "output_type": "stream",
     "text": [
      "Drive not mounted, so nothing to flush and unmount.\n",
      "Mounted at /content/drive\n"
     ]
    }
   ],
   "source": [
    "from google.colab import drive\n",
    "drive.flush_and_unmount()\n",
    "drive.mount('/content/drive')"
   ]
  },
  {
   "cell_type": "markdown",
   "metadata": {
    "id": "32ih7znedLMl"
   },
   "source": [
    "# RESTORE DATA"
   ]
  },
  {
   "cell_type": "code",
   "execution_count": null,
   "metadata": {
    "colab": {
     "base_uri": "https://localhost:8080/"
    },
    "executionInfo": {
     "elapsed": 3735,
     "status": "ok",
     "timestamp": 1750360304813,
     "user": {
      "displayName": "Furkan Baran",
      "userId": "16929650656431150556"
     },
     "user_tz": -180
    },
    "id": "3LW2VpU8cuX4",
    "outputId": "02c26ea0-61e7-453a-8110-2d2b2a26ef76"
   },
   "outputs": [
    {
     "name": "stdout",
     "output_type": "stream",
     "text": [
      "/content\n"
     ]
    }
   ],
   "source": [
    "%cd \"/content\"\n",
    "!cp \"/content/drive/MyDrive/Colab Notebooks/MVI_1482_VIS.avi\" .\n",
    "\n",
    "!cp \"/content/drive/MyDrive/Colab Notebooks/maritime-best.pt\" .\n",
    "\n",
    "!cp \"/content/drive/MyDrive/Colab Notebooks/gt.txt\" .\n"
   ]
  },
  {
   "cell_type": "code",
   "execution_count": null,
   "metadata": {
    "id": "-oIZpoCL3p9l"
   },
   "outputs": [],
   "source": [
    "SOURCE_VIDEO_PATH = \"/content/drive/MyDrive/Colab Notebooks/MVI_1482_VIS.avi\""
   ]
  },
  {
   "cell_type": "code",
   "execution_count": null,
   "metadata": {
    "id": "LoDyJf1_bZ3U"
   },
   "outputs": [],
   "source": [
    "MODEL_PATH = \"/content/maritime-best.pt\""
   ]
  },
  {
   "cell_type": "markdown",
   "metadata": {
    "id": "2LKV7_-Av3UB"
   },
   "source": [
    "# Model Import"
   ]
  },
  {
   "cell_type": "code",
   "execution_count": null,
   "metadata": {
    "collapsed": true,
    "id": "7r28OkjcNfCx"
   },
   "outputs": [],
   "source": [
    "model = YOLO(MODEL_PATH)\n"
   ]
  },
  {
   "cell_type": "code",
   "execution_count": null,
   "metadata": {
    "colab": {
     "base_uri": "https://localhost:8080/"
    },
    "executionInfo": {
     "elapsed": 17,
     "status": "ok",
     "timestamp": 1750360307808,
     "user": {
      "displayName": "Furkan Baran",
      "userId": "16929650656431150556"
     },
     "user_tz": -180
    },
    "id": "UE5CoHnlRCvV",
    "outputId": "c013f01e-5f43-45af-a379-13cb16162832"
   },
   "outputs": [
    {
     "name": "stdout",
     "output_type": "stream",
     "text": [
      "{0: 'Boat', 1: 'Buoy', 2: 'Ferry', 3: 'Flying bird-plane', 4: 'Kayak', 5: 'Other', 6: 'Sail boat', 7: 'Speed boat', 8: 'Vessel-ship'}\n"
     ]
    }
   ],
   "source": [
    "# dict maping class_id to class_name\n",
    "CLASS_NAMES_DICT = model.model.names\n",
    "print(CLASS_NAMES_DICT)\n",
    "\n",
    "# class ids matching the class names we have chosen // Ferry only\n",
    "SELECTED_CLASS_IDS = [2]"
   ]
  },
  {
   "cell_type": "markdown",
   "metadata": {
    "id": "A51idcpiwOA3"
   },
   "source": [
    "# MODEL FRAME TEST"
   ]
  },
  {
   "cell_type": "code",
   "execution_count": null,
   "metadata": {
    "id": "La1q9M7cRIBL"
   },
   "outputs": [],
   "source": [
    "# create frame generator\n",
    "generator = sv.get_video_frames_generator(SOURCE_VIDEO_PATH)\n",
    "# create instance of BoxAnnotator and LabelAnnotator\n",
    "box_annotator = sv.BoxAnnotator(thickness=4)\n",
    "label_annotator = sv.LabelAnnotator(text_thickness=2, text_scale=1.5, text_color=sv.Color.BLACK)\n",
    "# acquire first video frame\n",
    "iterator = iter(generator)\n",
    "frame = next(iterator)\n",
    "# model prediction on single frame and conversion to supervision Detections\n",
    "results = model(frame, verbose=False)[0]\n",
    "\n",
    "# convert to Detections\n",
    "detections = sv.Detections.from_ultralytics(results)\n",
    "# only consider class id from selected_classes define above\n",
    "detections = detections[np.isin(detections.class_id, SELECTED_CLASS_IDS)]\n",
    "\n",
    "# format custom labels\n",
    "labels = [\n",
    "    f\"{CLASS_NAMES_DICT[class_id]} {confidence:0.2f}\"\n",
    "    for confidence, class_id in zip(detections.confidence, detections.class_id)\n",
    "]\n",
    "\n",
    "# annotate and display frame\n",
    "annotated_frame = frame.copy()\n",
    "annotated_frame = box_annotator.annotate(\n",
    "    scene=annotated_frame, detections=detections)\n",
    "annotated_frame = label_annotator.annotate(\n",
    "    scene=annotated_frame, detections=detections, labels=labels)\n",
    "\n",
    "%matplotlib inline\n",
    "sv.plot_image(annotated_frame, (16, 16))"
   ]
  },
  {
   "cell_type": "markdown",
   "metadata": {
    "id": "D3QTK_PsJcNW"
   },
   "source": [
    "# Track"
   ]
  },
  {
   "cell_type": "code",
   "execution_count": null,
   "metadata": {
    "id": "Jl2uejZp88C-"
   },
   "outputs": [],
   "source": [
    "import numpy as np\n",
    "import cv2\n",
    "from pathlib import Path\n",
    "from boxmot.trackers.ocsort.ocsort import OcSort\n",
    "import supervision as sv\n",
    "\n",
    "def process_video_with_ocsort_and_trails(\n",
    "        video_path,\n",
    "        model,                         # YOLOv8 pre-trained model\n",
    "        output_file,                   # MOT-style \n",
    "        video_output_path,             # Annotated video out\n",
    "        selected_class_ids=[2],        # Ferry\n",
    "        confidence_thr=0.5,\n",
    "        annotate=True,\n",
    "        trail_length=40,\n",
    "        ocsort_kwargs=None             # OCSORT parameters\n",
    "    ):\n",
    "    if ocsort_kwargs is None:\n",
    "        ocsort_kwargs = {}\n",
    "    tracker = OcSort(**ocsort_kwargs)\n",
    "\n",
    "    cap = cv2.VideoCapture(video_path)\n",
    "    width = int(cap.get(cv2.CAP_PROP_FRAME_WIDTH))\n",
    "    height = int(cap.get(cv2.CAP_PROP_FRAME_HEIGHT))\n",
    "    fps = int(cap.get(cv2.CAP_PROP_FPS))\n",
    "\n",
    "    out = cv2.VideoWriter(\n",
    "        video_output_path,\n",
    "        cv2.VideoWriter_fourcc(*'mp4v'),\n",
    "        fps, (width, height)\n",
    "    )\n",
    "\n",
    "    if annotate:\n",
    "        box_annotator = sv.BoxAnnotator(thickness=4)\n",
    "        label_annotator = sv.LabelAnnotator(text_thickness=2, text_scale=1.5, text_color=sv.Color.BLACK)\n",
    "        class_names_dict = model.model.names\n",
    "\n",
    "    frame_id = 1\n",
    "    trails = {}\n",
    "\n",
    "    with open(output_file, 'w') as f:\n",
    "        while cap.isOpened():\n",
    "            ret, frame = cap.read()\n",
    "            if not ret:\n",
    "                break\n",
    "\n",
    "            results = model.predict(frame, verbose=False)[0]\n",
    "            boxes = results.boxes.xyxy.cpu().numpy()\n",
    "            confs = results.boxes.conf.cpu().numpy()\n",
    "            classes = results.boxes.cls.cpu().numpy().astype(int)\n",
    "\n",
    "            mask1 = np.isin(classes, selected_class_ids)\n",
    "            boxes = boxes[mask1]\n",
    "            confs = confs[mask1]\n",
    "            classes = classes[mask1]\n",
    "            mask2 = confs > confidence_thr\n",
    "            boxes = boxes[mask2]\n",
    "            confs = confs[mask2]\n",
    "            classes = classes[mask2]\n",
    "\n",
    "            # OCSORT input = [x1, y1, x2, y2, conf, class_id]\n",
    "            if len(boxes) > 0:\n",
    "                dets = np.hstack([boxes, confs[:, None], classes[:, None]])   # (N, 6)\n",
    "                tracks = tracker.update(dets, frame)\n",
    "            else:\n",
    "                tracks = tracker.update(np.empty((0,6)), frame)\n",
    "\n",
    "            if annotate:\n",
    "                sv_boxes, sv_confs, sv_class_ids, sv_track_ids = [], [], [], []\n",
    "\n",
    "            for trk in tracks:\n",
    "                x1, y1, x2, y2, track_id, conf, class_id = trk[:7]\n",
    "                w = x2 - x1\n",
    "                h = y2 - y1\n",
    "                f.write(f\"{frame_id},{int(track_id)},{x1:.1f},{y1:.1f},{w:.1f},{h:.1f},{conf:.2f},-1,-1,-1\\n\")\n",
    "\n",
    "                if annotate:\n",
    "                    sv_boxes.append([x1, y1, x2, y2])\n",
    "                    sv_confs.append(conf)\n",
    "                    sv_class_ids.append(class_id)\n",
    "                    sv_track_ids.append(track_id)\n",
    "                    # For trail, save the center point\n",
    "                    center = (int((x1+x2)/2), int((y1+y2)/2))\n",
    "                    tid = int(track_id)\n",
    "                    if tid not in trails:\n",
    "                        trails[tid] = []\n",
    "                    trails[tid].append(center)\n",
    "                    if len(trails[tid]) > trail_length:\n",
    "                        trails[tid] = trails[tid][-trail_length:]\n",
    "\n",
    "            if annotate:\n",
    "                dets_sv = sv.Detections(\n",
    "                    xyxy=np.array(sv_boxes) if sv_boxes else np.zeros((0, 4)),\n",
    "                    confidence=np.array(sv_confs) if sv_confs else np.array([]),\n",
    "                    class_id=np.array(sv_class_ids, dtype=int) if sv_class_ids else np.array([], dtype=int),\n",
    "                    tracker_id=np.array(sv_track_ids, dtype=int) if sv_track_ids else np.array([], dtype=int),\n",
    "                )\n",
    "                labels = [f\"#{int(tid)} {class_names_dict.get(int(cid),'?')} ({conf:.2f})\"\n",
    "                          for tid, cid, conf in zip(sv_track_ids, sv_class_ids, sv_confs)]\n",
    "                frame = box_annotator.annotate(scene=frame, detections=dets_sv)\n",
    "                frame = label_annotator.annotate(scene=frame, detections=dets_sv, labels=labels)\n",
    "\n",
    "            # Trail line\n",
    "            for tid, points in trails.items():\n",
    "                if len(points) > 1:\n",
    "                    for i in range(1, len(points)):\n",
    "                        cv2.line(frame, points[i-1], points[i], (0, 255, 255), 2)\n",
    "\n",
    "            out.write(frame)\n",
    "            frame_id += 1\n",
    "\n",
    "    cap.release()\n",
    "    out.release()\n"
   ]
  },
  {
   "cell_type": "code",
   "execution_count": null,
   "metadata": {
    "colab": {
     "base_uri": "https://localhost:8080/"
    },
    "executionInfo": {
     "elapsed": 77803,
     "status": "ok",
     "timestamp": 1750360669166,
     "user": {
      "displayName": "Furkan Baran",
      "userId": "16929650656431150556"
     },
     "user_tz": -180
    },
    "id": "NL0NlxFZC2-x",
    "outputId": "59481097-20eb-4f92-c41b-41b7a01b2ab4"
   },
   "outputs": [],
   "source": [
    "%cd /content\n",
    "process_video_with_ocsort_and_trails(\n",
    "    video_path=\"/content/MVI_1482_VIS.avi\",\n",
    "    model=model,\n",
    "    output_file=\"ocsort_results.txt\",\n",
    "    video_output_path=\"ocsort_tracking_output.mp4\",\n",
    "    selected_class_ids=[2],\n",
    "    confidence_thr=0.5,\n",
    "    annotate=True,\n",
    "    trail_length=40,\n",
    "    ocsort_kwargs={\n",
    "        \"per_class\": False,\n",
    "        \"det_thresh\": 0.3\n",
    "    }\n",
    ")"
   ]
  },
  {
   "cell_type": "code",
   "execution_count": null,
   "metadata": {
    "colab": {
     "base_uri": "https://localhost:8080/"
    },
    "executionInfo": {
     "elapsed": 872,
     "status": "ok",
     "timestamp": 1750360783614,
     "user": {
      "displayName": "Furkan Baran",
      "userId": "16929650656431150556"
     },
     "user_tz": -180
    },
    "id": "VCpzIUgXocL5",
    "outputId": "4063160d-0219-4ffe-e2e0-115498b0ba90"
   },
   "outputs": [
    {
     "name": "stdout",
     "output_type": "stream",
     "text": [
      "\\OCSORT Stats:\n",
      "Total frame count: 454\n",
      "Total track count: 2\n",
      "\n",
      "Track ID counts:\n",
      "id\n",
      "1    283\n",
      "2    335\n",
      "dtype: int64\n"
     ]
    }
   ],
   "source": [
    "output_dir = \"/content/drive/MyDrive/Colab Notebooks/ocsort\"\n",
    "os.makedirs(output_dir, exist_ok=True)\n",
    "\n",
    "# Save OCSORT outputs to GDrive\n",
    "!cp ocsort_tracking_output.mp4 \"/content/drive/MyDrive/Colab Notebooks/ocsort/\"\n",
    "!cp ocsort_results.txt \"/content/drive/MyDrive/Colab Notebooks/ocsort/\"\n",
    "\n",
    "# Check OCSORT results\n",
    "df_sort = pd.read_csv('ocsort_results.txt', header=None,\n",
    "                     names=['frame', 'id', 'bb_left', 'bb_top', 'bb_width', 'bb_height', 'conf', 'x', 'y', 'z'])\n",
    "\n",
    "print(\"\\OCSORT Stats:\")\n",
    "print(f\"Total frame count: {df_sort['frame'].nunique()}\")\n",
    "print(f\"Total track count: {df_sort['id'].nunique()}\")\n",
    "print(\"\\nTrack ID counts:\")\n",
    "print(df_sort.groupby('id').size())"
   ]
  }
 ],
 "metadata": {
  "colab": {
   "authorship_tag": "ABX9TyOKWodRfizsCnf5pqzTJh7r",
   "collapsed_sections": [
    "A51idcpiwOA3"
   ],
   "provenance": [
    {
     "file_id": "1KE5zrSkeoCa7lvfoPfFNJiaCAPOpjTS0",
     "timestamp": 1750360865775
    },
    {
     "file_id": "1GLLEOhuF_VUH7TgOSdK0f2wEB1f4kcx5",
     "timestamp": 1750359416215
    },
    {
     "file_id": "1l-MKz_xPgfVjk4NDfMmX4rZ00fJQKxwg",
     "timestamp": 1748345406350
    },
    {
     "file_id": "1i4yar6Rpx2RBA_NXNG3HgJOzveSkBMx3",
     "timestamp": 1746887323447
    }
   ]
  },
  "kernelspec": {
   "display_name": "Python 3",
   "name": "python3"
  },
  "language_info": {
   "name": "python"
  }
 },
 "nbformat": 4,
 "nbformat_minor": 0
}
