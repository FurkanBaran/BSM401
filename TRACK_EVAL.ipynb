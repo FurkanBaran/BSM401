{
  "cells": [
    {
      "cell_type": "markdown",
      "metadata": {
        "id": "q7gT8e57vzR3"
      },
      "source": [
        "# SETUP"
      ]
    },
    {
      "cell_type": "code",
      "execution_count": 27,
      "metadata": {
        "colab": {
          "base_uri": "https://localhost:8080/"
        },
        "collapsed": true,
        "id": "j6ZDQskKImeh",
        "outputId": "a600ba29-7131-42b0-b0d6-0ee3e083ac08"
      },
      "outputs": [
        {
          "name": "stdout",
          "output_type": "stream",
          "text": [
            "/bin/bash: line 1: nvidia-smi: command not found\n"
          ]
        }
      ],
      "source": [
        "!nvidia-smi"
      ]
    },
    {
      "cell_type": "code",
      "execution_count": 2,
      "metadata": {
        "colab": {
          "base_uri": "https://localhost:8080/"
        },
        "id": "fSVXADa9JKvI",
        "outputId": "239a724d-a248-42db-9664-cbb483783dc0"
      },
      "outputs": [
        {
          "name": "stdout",
          "output_type": "stream",
          "text": [
            "/content\n"
          ]
        }
      ],
      "source": [
        "import os\n",
        "HOME = os.getcwd()\n",
        "import shutil"
      ]
    },
    {
      "cell_type": "code",
      "execution_count": null,
      "metadata": {
        "collapsed": true,
        "id": "6V9R2hh3JNMQ"
      },
      "outputs": [],
      "source": [
        "!pip install ultralytics\n",
        "\n",
        "import ultralytics\n",
        "from ultralytics import YOLO\n",
        "\n"
      ]
    },
    {
      "cell_type": "code",
      "execution_count": null,
      "metadata": {
        "id": "5doTkVT9Oae4"
      },
      "outputs": [],
      "source": [
        "!pip install supervision\n",
        "\n",
        "\n",
        "import supervision as sv\n"
      ]
    },
    {
      "cell_type": "code",
      "execution_count": 5,
      "metadata": {
        "id": "XkL8zI1XRFoC"
      },
      "outputs": [],
      "source": [
        "import numpy as np"
      ]
    },
    {
      "cell_type": "code",
      "execution_count": 6,
      "metadata": {
        "id": "20qUwXtIwibz"
      },
      "outputs": [],
      "source": [
        "import scipy.io as sio\n",
        "import cv2"
      ]
    },
    {
      "cell_type": "code",
      "execution_count": 7,
      "metadata": {
        "id": "H3VXcaR5uHuM"
      },
      "outputs": [],
      "source": [
        "import pandas as pd"
      ]
    },
    {
      "cell_type": "markdown",
      "metadata": {
        "id": "Hi6fMxqKvgL1"
      },
      "source": [
        "# GOOGLE DRIVE MOUNT"
      ]
    },
    {
      "cell_type": "code",
      "execution_count": 8,
      "metadata": {
        "colab": {
          "base_uri": "https://localhost:8080/"
        },
        "collapsed": true,
        "id": "9AFHEkirJX3Z",
        "outputId": "be8b57fa-f31d-4880-fdd7-2f048dfcb1db"
      },
      "outputs": [
        {
          "name": "stdout",
          "output_type": "stream",
          "text": [
            "Drive not mounted, so nothing to flush and unmount.\n",
            "Mounted at /content/drive\n"
          ]
        }
      ],
      "source": [
        "from google.colab import drive\n",
        "drive.flush_and_unmount()\n",
        "drive.mount('/content/drive')"
      ]
    },
    {
      "cell_type": "code",
      "execution_count": null,
      "metadata": {
        "collapsed": true,
        "id": "sOsinYfvLGVp"
      },
      "outputs": [],
      "source": [
        "!ls \"/content/drive/MyDrive/Colab Notebooks/\""
      ]
    },
    {
      "cell_type": "markdown",
      "metadata": {
        "id": "32ih7znedLMl"
      },
      "source": [
        "# RESTORE DATA"
      ]
    },
    {
      "cell_type": "code",
      "execution_count": 25,
      "metadata": {
        "colab": {
          "base_uri": "https://localhost:8080/"
        },
        "id": "3LW2VpU8cuX4",
        "outputId": "1d90272d-e1f3-4e40-9086-9d362b237fed"
      },
      "outputs": [
        {
          "name": "stdout",
          "output_type": "stream",
          "text": [
            "/content\n"
          ]
        }
      ],
      "source": [
        "%cd \"/content\"\n",
        "\n",
        "!cp \"/content/drive/MyDrive/Colab Notebooks/gt.txt\" .\n",
        "\n",
        "trackers = [\"bytetrack\", \"deepsort\", \"sort\", \"ocsort\", \"botsort\", \"strongsort\"]\n",
        "\n",
        "\n",
        "for tracker in trackers:\n",
        "    source_path = f\"/content/drive/MyDrive/Colab Notebooks/{tracker}/{tracker}_results.txt\"\n",
        "    !cp \"{source_path}\" .\n"
      ]
    },
    {
      "cell_type": "code",
      "execution_count": 11,
      "metadata": {
        "id": "-oIZpoCL3p9l"
      },
      "outputs": [],
      "source": [
        "SOURCE_VIDEO_PATH = \"/content/drive/MyDrive/Colab Notebooks/MVI_1482_VIS.avi\""
      ]
    },
    {
      "cell_type": "markdown",
      "metadata": {
        "id": "s-p7doZc_tlA"
      },
      "source": [
        "# TRACK EVALUATION\n"
      ]
    },
    {
      "cell_type": "markdown",
      "metadata": {
        "id": "ls84j0Codw5n"
      },
      "source": [
        "## Install TrackEval"
      ]
    },
    {
      "cell_type": "markdown",
      "metadata": {
        "id": "wHjtWhpYd1mU"
      },
      "source": [
        "### Clean Download"
      ]
    },
    {
      "cell_type": "code",
      "execution_count": null,
      "metadata": {
        "id": "mDp73sX0zp1q"
      },
      "outputs": [],
      "source": [
        "%cd /content/\n",
        "%rm -fr TrackEval\n",
        "\n",
        "\n",
        "import sys\n",
        "import importlib\n",
        "\n",
        "sys.modules.pop('trackeval', None)\n",
        "for module in list(sys.modules.keys()):\n",
        "    if module.startswith('trackeval'):\n",
        "        sys.modules.pop(module, None)\n",
        "!git clone https://github.com/JonathonLuiten/TrackEval.git\n",
        "%cd TrackEval"
      ]
    },
    {
      "cell_type": "markdown",
      "metadata": {
        "id": "fg_763fRdkhG"
      },
      "source": [
        "### Fix the old numpy compatibility"
      ]
    },
    {
      "cell_type": "code",
      "execution_count": null,
      "metadata": {
        "id": "3G97Q1ZOcxnA"
      },
      "outputs": [],
      "source": [
        "# To be updated files\n",
        "files_to_fix = [\n",
        "    '/content/TrackEval/trackeval/metrics/hota.py',\n",
        "    '/content/TrackEval/trackeval/metrics/clear.py',\n",
        "    '/content/TrackEval/trackeval/metrics/identity.py',\n",
        "    '/content/TrackEval/trackeval/metrics/vace.py',\n",
        "    '/content/TrackEval/trackeval/datasets/mot_challenge_2d_box.py'\n",
        "]\n",
        "\n",
        "# Updates\n",
        "replacements = {\n",
        "    'np.int': 'np.int64',\n",
        "    'np.float': 'np.float64',\n",
        "    'dtype=float': 'dtype=np.float64',\n",
        "    'dtype=int': 'dtype=np.int64'\n",
        "}\n",
        "\n",
        "for file_path in files_to_fix:\n",
        "    try:\n",
        "        with open(file_path, 'r') as file:\n",
        "            content = file.read()\n",
        "\n",
        "        for old, new in replacements.items():\n",
        "            content = content.replace(old, new)\n",
        "\n",
        "        with open(file_path, 'w') as file:\n",
        "            file.write(content)\n",
        "\n",
        "        print(f\"Successfully modified: {file_path}\")\n",
        "    except Exception as e:\n",
        "        print(f\"Error processing {file_path}: {str(e)}\")\n",
        "\n",
        "print(\"\\nAll files have been processed.\")"
      ]
    },
    {
      "cell_type": "markdown",
      "metadata": {
        "id": "4nnD5VFVeBcc"
      },
      "source": [
        "### Install"
      ]
    },
    {
      "cell_type": "code",
      "execution_count": null,
      "metadata": {
        "id": "ZKV2WqRbc_x5"
      },
      "outputs": [],
      "source": [
        "%cd /content/TrackEval/\n",
        "!pip install -e ."
      ]
    },
    {
      "cell_type": "markdown",
      "metadata": {
        "id": "tGYWESvteEcs"
      },
      "source": [
        "### Import\n"
      ]
    },
    {
      "cell_type": "code",
      "execution_count": 15,
      "metadata": {
        "id": "RWm2oPk-uUzQ"
      },
      "outputs": [],
      "source": [
        "import trackeval"
      ]
    },
    {
      "cell_type": "code",
      "execution_count": null,
      "metadata": {
        "colab": {
          "base_uri": "https://localhost:8080/"
        },
        "id": "a_EtVI4RdErQ",
        "outputId": "3c55fa2e-92da-49fe-a482-ca7a495b82a3"
      },
      "outputs": [],
      "source": [
        "\n",
        "# Copy Ground truth file\n",
        "!cp \"/content/gt.txt\" \"/content/TrackEval/data/mot_challenge/custom/MVI_1482_VIS/gt/gt.txt\"\n",
        "\n",
        "video_info = sv.VideoInfo.from_video_path(SOURCE_VIDEO_PATH)\n",
        "seqinfo_content = f\"\"\"[Sequence]\n",
        "name=MVI_1482_VIS\n",
        "imDir=img1\n",
        "frameRate={video_info.fps}\n",
        "seqLength={video_info.total_frames}\n",
        "imWidth={video_info.width}\n",
        "imHeight={video_info.height}\n",
        "imExt=.jpg\"\"\"\n",
        "\n",
        "with open(\"/content/TrackEval/data/mot_challenge/custom/MVI_1482_VIS/seqinfo.ini\", 'w') as f:\n",
        "    f.write(seqinfo_content)\n",
        "\n",
        "# Dosyaların varlığını kontrol edelim\n",
        "print(\"\\nChecking files:\")\n",
        "!ls -R /content/TrackEval/data/mot_challenge/custom/\n",
        "\n",
        "\n",
        "# Ensure the seqmaps directory exists\n",
        "os.makedirs('/content/TrackEval/data/mot_challenge/custom/seqmaps', exist_ok=True)\n",
        "\n",
        "# Define the content of the sequence map file\n",
        "seqmap_content = \"\"\"name\n",
        "MVI_1482_VIS\n",
        "\"\"\"\n",
        "\n",
        "# Write the sequence map file\n",
        "seqmap_path = '/content/TrackEval/data/mot_challenge/custom/seqmaps/custom-train.txt'\n",
        "with open(seqmap_path, 'w') as f:\n",
        "    f.write(seqmap_content)\n",
        "\n",
        "# Verify the file exists\n",
        "assert os.path.isfile(seqmap_path), \"Sequence map file was not created successfully.\""
      ]
    },
    {
      "cell_type": "markdown",
      "metadata": {
        "id": "Y2xtrv-seKPL"
      },
      "source": [
        "## Evaluate"
      ]
    },
    {
      "cell_type": "code",
      "execution_count": 26,
      "metadata": {
        "id": "PtzO7D1EOe9V"
      },
      "outputs": [],
      "source": [
        "def setup_mot_evaluation(video_path, algorithm_name=\"bytetrack\"):\n",
        "    %cd /content/\n",
        "\n",
        "    video_name = os.path.basename(video_path).split('.')[0]\n",
        "    base_path = \"/content/TrackEval/data\"\n",
        "\n",
        "    # check files\n",
        "    gt_source = f\"gt.txt\"\n",
        "    tracker_source = f\"{algorithm_name}_results.txt\"\n",
        "    if not os.path.exists(gt_source):\n",
        "        raise FileNotFoundError(f\"Cloudn't find ground truth file: {gt_source}\")\n",
        "    if not os.path.exists(tracker_source):\n",
        "        raise FileNotFoundError(f\"Could not find tracker results file: {tracker_source}\")\n",
        "\n",
        "\n",
        "    # Main paths\n",
        "    paths = {\n",
        "        'seqmaps': f\"{base_path}/gt/mot_challenge/seqmaps\",\n",
        "        'gt_base': f\"{base_path}/gt/mot_challenge/mot_challenge-train/{video_name}\",\n",
        "        'gt_data': f\"{base_path}/gt/mot_challenge/mot_challenge-train/{video_name}/gt\",\n",
        "        'tracker': f\"{base_path}/trackers/mot_challenge/mot_challenge-train/{algorithm_name}/data\"\n",
        "    }\n",
        "\n",
        "\n",
        "    # Make dirs\n",
        "    for path in paths.values():\n",
        "        os.makedirs(path, exist_ok=True)\n",
        "\n",
        "    # Copy Ground truth file\n",
        "    gt_target = os.path.join(paths['gt_data'], gt_source)\n",
        "    shutil.copy2(gt_source, gt_target)\n",
        "\n",
        "    # Copy tracking results\n",
        "    tracker_target = os.path.join(paths['tracker'], f\"{video_name}.txt\")\n",
        "    shutil.copy2(tracker_source, tracker_target)\n",
        "\n",
        "    # seqinfo.ini\n",
        "    video_info = sv.VideoInfo.from_video_path(video_path)\n",
        "    seqinfo_content = f\"\"\"[Sequence]\n",
        "name={video_name}\n",
        "imDir=img1\n",
        "frameRate={video_info.fps}\n",
        "seqLength={video_info.total_frames}\n",
        "imWidth={video_info.width}\n",
        "imHeight={video_info.height}\n",
        "imExt=.jpg\"\"\"\n",
        "\n",
        "    seqinfo_path = os.path.join(paths['gt_base'], 'seqinfo.ini')\n",
        "    with open(seqinfo_path, 'w') as f:\n",
        "        f.write(seqinfo_content)\n",
        "\n",
        "    # sequence map file\n",
        "    seqmap_content = f\"\"\"name\n",
        "{video_name}\"\"\"\n",
        "\n",
        "    seqmap_path = os.path.join(paths['seqmaps'], 'mot_challenge-train.txt')\n",
        "    with open(seqmap_path, 'w') as f:\n",
        "        f.write(seqmap_content)\n",
        "\n",
        "    print(\"Files created successfully.\")\n",
        "    print(\"\\nFiles:\")\n",
        "    print(f\"GT file: {os.path.exists(gt_target)}\")\n",
        "    print(f\"Tracker file: {os.path.exists(tracker_target)}\")\n",
        "    print(f\"Seqinfo file: {os.path.exists(seqinfo_path)}\")\n",
        "    print(f\"Seqmap file: {os.path.exists(seqmap_path)}\")\n",
        "\n",
        "    if not os.path.exists(gt_target):\n",
        "        print(f\"\\nWarning: Ground truth file not found at {gt_target}\")\n",
        "        print(f\"Source: {gt_source}\")\n",
        "        print(f\"Target: {gt_target}\")\n",
        "        print(f\"Source File? : {os.path.exists(gt_source)}\")\n",
        "        print(f\"Target path? : {os.path.exists(os.path.dirname(gt_target))}\")\n"
      ]
    },
    {
      "cell_type": "code",
      "execution_count": null,
      "metadata": {
        "colab": {
          "base_uri": "https://localhost:8080/"
        },
        "id": "azxOednJ4oGx",
        "outputId": "97d36b0a-949d-4334-812b-1f4ff821b10c"
      },
      "outputs": [],
      "source": [
        "for algorithm in trackers:\n",
        "    # Start setup\n",
        "    setup_mot_evaluation(\n",
        "        video_path=SOURCE_VIDEO_PATH,\n",
        "        algorithm_name=algorithm\n",
        "    )\n",
        "\n",
        "    # Evaluate\n",
        "    %cd /content/TrackEval/\n",
        "    !python scripts/run_mot_challenge.py \\\n",
        "        --BENCHMARK mot_challenge \\\n",
        "        --SPLIT_TO_EVAL train \\\n",
        "        --TRACKERS_TO_EVAL {algorithm} \\\n",
        "        --DO_PREPROC False"
      ]
    }
  ],
  "metadata": {
    "colab": {
      "collapsed_sections": [
        "q7gT8e57vzR3",
        "Hi6fMxqKvgL1",
        "32ih7znedLMl",
        "s-p7doZc_tlA"
      ],
      "provenance": []
    },
    "kernelspec": {
      "display_name": "Python 3",
      "name": "python3"
    },
    "language_info": {
      "name": "python"
    }
  },
  "nbformat": 4,
  "nbformat_minor": 0
}
