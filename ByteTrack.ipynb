{
 "cells": [
  {
   "cell_type": "markdown",
   "metadata": {
    "id": "ku30yx4fzuT9"
   },
   "source": [
    "# SETUP"
   ]
  },
  {
   "cell_type": "code",
   "execution_count": null,
   "metadata": {
    "colab": {
     "base_uri": "https://localhost:8080/"
    },
    "executionInfo": {
     "elapsed": 36,
     "status": "ok",
     "timestamp": 1748436388749,
     "user": {
      "displayName": "Furkan Baran",
      "userId": "16929650656431150556"
     },
     "user_tz": -180
    },
    "id": "-Xaou5UJuUhr",
    "outputId": "c1f7c30f-42f9-4345-ea7e-1335db4c442f"
   },
   "outputs": [
    {
     "name": "stdout",
     "output_type": "stream",
     "text": [
      "/content\n"
     ]
    }
   ],
   "source": [
    "import os\n",
    "HOME = os.getcwd()\n",
    "print(HOME)"
   ]
  },
  {
   "cell_type": "code",
   "execution_count": null,
   "metadata": {
    "colab": {
     "base_uri": "https://localhost:8080/"
    },
    "collapsed": true,
    "executionInfo": {
     "elapsed": 127857,
     "status": "ok",
     "timestamp": 1748436516610,
     "user": {
      "displayName": "Furkan Baran",
      "userId": "16929650656431150556"
     },
     "user_tz": -180
    },
    "id": "GbU5zA4BvJ9X",
    "outputId": "6b434114-bf57-4ce2-a4cf-60c1f4ffa282"
   },
   "outputs": [],
   "source": [
    "!pip install ultralytics\n",
    "\n",
    "\n",
    "import ultralytics\n",
    "from ultralytics import YOLO"
   ]
  },
  {
   "cell_type": "code",
   "execution_count": null,
   "metadata": {
    "colab": {
     "base_uri": "https://localhost:8080/"
    },
    "executionInfo": {
     "elapsed": 9967,
     "status": "ok",
     "timestamp": 1748436526580,
     "user": {
      "displayName": "Furkan Baran",
      "userId": "16929650656431150556"
     },
     "user_tz": -180
    },
    "id": "y875yed8v0KR",
    "outputId": "7250340e-0f1b-4ab1-cf78-0551f082838b"
   },
   "outputs": [],
   "source": [
    "!pip install supervision\n",
    "import supervision as sv\n"
   ]
  },
  {
   "cell_type": "code",
   "execution_count": null,
   "metadata": {
    "id": "7zy4BZWIwHrM"
   },
   "outputs": [],
   "source": [
    "import numpy as np"
   ]
  },
  {
   "cell_type": "code",
   "execution_count": null,
   "metadata": {
    "id": "q5Vb8I0Xwgte"
   },
   "outputs": [],
   "source": [
    "import pandas as pd"
   ]
  },
  {
   "cell_type": "code",
   "execution_count": null,
   "metadata": {
    "id": "0KzB3Njzws_-"
   },
   "outputs": [],
   "source": [
    "import cv2"
   ]
  },
  {
   "cell_type": "markdown",
   "metadata": {
    "id": "kYOR2aiwu5Kg"
   },
   "source": [
    "## GOOGLE DRIVE MOUNT"
   ]
  },
  {
   "cell_type": "code",
   "execution_count": null,
   "metadata": {
    "colab": {
     "base_uri": "https://localhost:8080/",
     "height": 339
    },
    "executionInfo": {
     "elapsed": 6527,
     "status": "error",
     "timestamp": 1748436533735,
     "user": {
      "displayName": "Furkan Baran",
      "userId": "16929650656431150556"
     },
     "user_tz": -180
    },
    "id": "YpAicv4nufw1",
    "outputId": "a455fc28-91bc-43e4-c6c6-45c8d91898e6"
   },
   "outputs": [],
   "source": [
    "from google.colab import drive\n",
    "drive.flush_and_unmount()\n",
    "drive.mount('/content/drive')"
   ]
  },
  {
   "cell_type": "markdown",
   "metadata": {
    "id": "32ih7znedLMl"
   },
   "source": [
    "# RESTORE DATA"
   ]
  },
  {
   "cell_type": "code",
   "execution_count": null,
   "metadata": {
    "colab": {
     "base_uri": "https://localhost:8080/"
    },
    "executionInfo": {
     "elapsed": 8975,
     "status": "ok",
     "timestamp": 1747695710322,
     "user": {
      "displayName": "Furkan Baran",
      "userId": "16929650656431150556"
     },
     "user_tz": -180
    },
    "id": "3LW2VpU8cuX4",
    "outputId": "6f784b34-bb6e-4365-d035-33c65450a290"
   },
   "outputs": [
    {
     "name": "stdout",
     "output_type": "stream",
     "text": [
      "/content\n"
     ]
    }
   ],
   "source": [
    "%cd \"/content\"\n",
    "!cp \"/content/drive/MyDrive/Colab Notebooks/MVI_1482_VIS.avi\" .\n",
    "\n",
    "!cp \"/content/drive/MyDrive/Colab Notebooks/maritime-best.pt\" .\n",
    "\n",
    "!cp \"/content/drive/MyDrive/Colab Notebooks/gt.txt\" .\n"
   ]
  },
  {
   "cell_type": "code",
   "execution_count": null,
   "metadata": {
    "id": "-oIZpoCL3p9l"
   },
   "outputs": [],
   "source": [
    "SOURCE_VIDEO_PATH = \"/content/drive/MyDrive/Colab Notebooks/MVI_1482_VIS.avi\""
   ]
  },
  {
   "cell_type": "code",
   "execution_count": null,
   "metadata": {
    "id": "LoDyJf1_bZ3U"
   },
   "outputs": [],
   "source": [
    "MODEL_PATH = \"/content/maritime-best.pt\""
   ]
  },
  {
   "cell_type": "markdown",
   "metadata": {
    "id": "2LKV7_-Av3UB"
   },
   "source": [
    "# Model Import"
   ]
  },
  {
   "cell_type": "code",
   "execution_count": null,
   "metadata": {
    "collapsed": true,
    "id": "7r28OkjcNfCx"
   },
   "outputs": [],
   "source": [
    "model = YOLO(MODEL_PATH)\n"
   ]
  },
  {
   "cell_type": "code",
   "execution_count": null,
   "metadata": {
    "colab": {
     "base_uri": "https://localhost:8080/"
    },
    "executionInfo": {
     "elapsed": 35,
     "status": "ok",
     "timestamp": 1747695715812,
     "user": {
      "displayName": "Furkan Baran",
      "userId": "16929650656431150556"
     },
     "user_tz": -180
    },
    "id": "GAu7r5wj3Nuq",
    "outputId": "b0d7194c-970c-419f-fe52-d8a97df2ace0"
   },
   "outputs": [
    {
     "name": "stdout",
     "output_type": "stream",
     "text": [
      "{0: 'Boat', 1: 'Buoy', 2: 'Ferry', 3: 'Flying bird-plane', 4: 'Kayak', 5: 'Other', 6: 'Sail boat', 7: 'Speed boat', 8: 'Vessel-ship'}\n"
     ]
    }
   ],
   "source": [
    "# dict maping class_id to class_name\n",
    "CLASS_NAMES_DICT = model.model.names\n",
    "print(CLASS_NAMES_DICT)\n",
    "# class ids matching the class names we have chosen // Ferry only\n",
    "SELECTED_CLASS_IDS = [2]"
   ]
  },
  {
   "cell_type": "markdown",
   "metadata": {
    "id": "A51idcpiwOA3"
   },
   "source": [
    "# MODEL FRAME TEST"
   ]
  },
  {
   "cell_type": "code",
   "execution_count": null,
   "metadata": {
    "id": "La1q9M7cRIBL"
   },
   "outputs": [],
   "source": [
    "# create frame generator\n",
    "generator = sv.get_video_frames_generator(SOURCE_VIDEO_PATH)\n",
    "# create instance of BoxAnnotator and LabelAnnotator\n",
    "box_annotator = sv.BoxAnnotator(thickness=4)\n",
    "label_annotator = sv.LabelAnnotator(text_thickness=2, text_scale=1.5, text_color=sv.Color.BLACK)\n",
    "# acquire first video frame\n",
    "iterator = iter(generator)\n",
    "frame = next(iterator)\n",
    "# model prediction on single frame and conversion to supervision Detections\n",
    "results = model(frame, verbose=False)[0]\n",
    "\n",
    "# convert to Detections\n",
    "detections = sv.Detections.from_ultralytics(results)\n",
    "# only consider class id from selected_classes define above\n",
    "detections = detections[np.isin(detections.class_id, SELECTED_CLASS_IDS)]\n",
    "\n",
    "# format custom labels\n",
    "labels = [\n",
    "    f\"{CLASS_NAMES_DICT[class_id]} {confidence:0.2f}\"\n",
    "    for confidence, class_id in zip(detections.confidence, detections.class_id)\n",
    "]\n",
    "\n",
    "# annotate and display frame\n",
    "annotated_frame = frame.copy()\n",
    "annotated_frame = box_annotator.annotate(\n",
    "    scene=annotated_frame, detections=detections)\n",
    "annotated_frame = label_annotator.annotate(\n",
    "    scene=annotated_frame, detections=detections, labels=labels)\n",
    "\n",
    "%matplotlib inline\n",
    "sv.plot_image(annotated_frame, (16, 16))"
   ]
  },
  {
   "cell_type": "markdown",
   "metadata": {
    "id": "tVraSSPpwqZ2"
   },
   "source": [
    "# TRACK"
   ]
  },
  {
   "cell_type": "code",
   "execution_count": null,
   "metadata": {
    "id": "2D1DL3i_wDoZ"
   },
   "outputs": [],
   "source": [
    "def process_video_with_bytetrack(video_path, model, output_file, video_output_path):\n",
    "\n",
    "    # create BYTETracker instance\n",
    "    byte_tracker = sv.ByteTrack(\n",
    "        track_activation_threshold=0.25,\n",
    "        lost_track_buffer=30,\n",
    "        minimum_matching_threshold=0.7,\n",
    "        frame_rate=30,\n",
    "        minimum_consecutive_frames=3)\n",
    "    # Reset ByteTrack each time\n",
    "    sv.ByteTrack.reset(byte_tracker)\n",
    "\n",
    "    cap = cv2.VideoCapture(video_path)\n",
    "    width = int(cap.get(cv2.CAP_PROP_FRAME_WIDTH))\n",
    "    height = int(cap.get(cv2.CAP_PROP_FRAME_HEIGHT))\n",
    "    fps = int(cap.get(cv2.CAP_PROP_FPS))\n",
    "\n",
    "    out = cv2.VideoWriter(video_output_path,\n",
    "                         cv2.VideoWriter_fourcc(*'mp4v'),\n",
    "                         fps, (width, height))\n",
    "\n",
    "    box_annotator = sv.BoxAnnotator()\n",
    "    label_annotator = sv.LabelAnnotator(text_thickness=2, text_scale=1.5, text_color=sv.Color.BLACK)\n",
    "\n",
    "    frame_id = 1\n",
    "\n",
    "    with open(output_file, 'w') as f:\n",
    "        while cap.isOpened():\n",
    "            ret, frame = cap.read()\n",
    "            if not ret:\n",
    "                break\n",
    "\n",
    "            # Get results\n",
    "            results = model(frame)[0]\n",
    "            detections = sv.Detections.from_ultralytics(results)\n",
    "\n",
    "            # Filter selected class (Ferry)\n",
    "            mask = np.isin(detections.class_id, SELECTED_CLASS_IDS)\n",
    "            filtered_detections = detections[mask]\n",
    "\n",
    "            # Filter +0.5 confidence\n",
    "            conf_mask = filtered_detections.confidence > 0.5\n",
    "            filtered_detections = filtered_detections[conf_mask]\n",
    "\n",
    "            # Track only selected class\n",
    "            tracked_detections = byte_tracker.update_with_detections(filtered_detections)\n",
    "\n",
    "            for bbox, track_id, conf in zip(tracked_detections.xyxy, tracked_detections.tracker_id, tracked_detections.confidence):\n",
    "                x1, y1, x2, y2 = bbox\n",
    "                w = x2 - x1\n",
    "                h = y2 - y1\n",
    "                # MOT Challenge format\n",
    "                f.write(f\"{frame_id},{track_id},{x1},{y1},{w},{h},{conf},-1,-1,-1\\n\")\n",
    "\n",
    "            # Visualize\n",
    "            labels = [f\"#{track_id} Ferry ({conf:.2f})\" for track_id, conf\n",
    "                     in zip(tracked_detections.tracker_id, tracked_detections.confidence)]\n",
    "\n",
    "            frame = box_annotator.annotate(scene=frame, detections=tracked_detections)\n",
    "            frame = label_annotator.annotate(scene=frame, detections=tracked_detections, labels=labels)\n",
    "            out.write(frame)\n",
    "\n",
    "            frame_id += 1\n",
    "\n",
    "    cap.release()\n",
    "    out.release()\n",
    "\n"
   ]
  },
  {
   "cell_type": "markdown",
   "metadata": {
    "id": "IC-GplG-zW8l"
   },
   "source": [
    "## Run\n"
   ]
  },
  {
   "cell_type": "code",
   "execution_count": null,
   "metadata": {
    "id": "f67jxGOGzWPN"
   },
   "outputs": [],
   "source": [
    "process_video_with_bytetrack(SOURCE_VIDEO_PATH, model,\n",
    "                           'bytetrack_results.txt',\n",
    "                           'bytetrack_tracking_output.mp4')\n"
   ]
  },
  {
   "cell_type": "markdown",
   "metadata": {
    "id": "MnSPBpsYzaSv"
   },
   "source": [
    "## Save video outputs to GDrive and Print"
   ]
  },
  {
   "cell_type": "code",
   "execution_count": null,
   "metadata": {
    "id": "kwuSO7J0wQlO"
   },
   "outputs": [],
   "source": [
    "output_dir = \"/content/drive/MyDrive/Colab Notebooks/bytetrack\"\n",
    "os.makedirs(output_dir, exist_ok=True)\n",
    "\n",
    "\n",
    "!cp bytetrack_tracking_output.mp4 \"/content/drive/MyDrive/Colab Notebooks/bytetrack/\"\n",
    "!cp bytetrack_results.txt \"/content/drive/MyDrive/Colab Notebooks/bytetrack/\"\n",
    "\n",
    "\n",
    "df = pd.read_csv('bytetrack_results.txt', header=None,\n",
    "                 names=['frame', 'id', 'bb_left', 'bb_top', 'bb_width', 'bb_height', 'conf', 'x', 'y', 'z'])\n",
    "\n",
    "print(\"\\nStats:\")\n",
    "print(f\"Total frame count: {df['frame'].nunique()}\")\n",
    "print(f\"Total track count: {df['id'].nunique()}\")\n",
    "print(\"\\nTrack ID counts:\")\n",
    "print(df.groupby('id').size())\n"
   ]
  }
 ],
 "metadata": {
  "colab": {
   "authorship_tag": "ABX9TyPyrmpEpHCSsv5E9A3CYzqz",
   "provenance": []
  },
  "kernelspec": {
   "display_name": "Python 3",
   "name": "python3"
  },
  "language_info": {
   "name": "python"
  }
 },
 "nbformat": 4,
 "nbformat_minor": 0
}
