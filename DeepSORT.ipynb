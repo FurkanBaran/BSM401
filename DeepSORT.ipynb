{
 "cells": [
  {
   "cell_type": "markdown",
   "metadata": {
    "id": "ku30yx4fzuT9"
   },
   "source": [
    "# SETUP"
   ]
  },
  {
   "cell_type": "code",
   "execution_count": null,
   "metadata": {
    "colab": {
     "base_uri": "https://localhost:8080/"
    },
    "executionInfo": {
     "elapsed": 20,
     "status": "ok",
     "timestamp": 1747696507664,
     "user": {
      "displayName": "Furkan Baran",
      "userId": "16929650656431150556"
     },
     "user_tz": -180
    },
    "id": "-Xaou5UJuUhr",
    "outputId": "7943300f-0ea5-4e22-b53b-a44ef3b212db"
   },
   "outputs": [
    {
     "name": "stdout",
     "output_type": "stream",
     "text": [
      "/content\n"
     ]
    }
   ],
   "source": [
    "import os\n",
    "HOME = os.getcwd()\n",
    "print(HOME)"
   ]
  },
  {
   "cell_type": "code",
   "execution_count": null,
   "metadata": {
    "collapsed": true,
    "id": "GbU5zA4BvJ9X"
   },
   "outputs": [],
   "source": [
    "!pip install ultralytics\n",
    "\n",
    "\n",
    "import ultralytics\n",
    "from ultralytics import YOLO"
   ]
  },
  {
   "cell_type": "code",
   "execution_count": null,
   "metadata": {
    "id": "y875yed8v0KR"
   },
   "outputs": [],
   "source": [
    "!pip install supervision\n",
    "import supervision as sv\n"
   ]
  },
  {
   "cell_type": "code",
   "execution_count": null,
   "metadata": {
    "id": "7zy4BZWIwHrM"
   },
   "outputs": [],
   "source": [
    "import numpy as np"
   ]
  },
  {
   "cell_type": "code",
   "execution_count": null,
   "metadata": {
    "id": "q5Vb8I0Xwgte"
   },
   "outputs": [],
   "source": [
    "import pandas as pd"
   ]
  },
  {
   "cell_type": "code",
   "execution_count": null,
   "metadata": {
    "id": "0KzB3Njzws_-"
   },
   "outputs": [],
   "source": [
    "import cv2"
   ]
  },
  {
   "cell_type": "code",
   "execution_count": null,
   "metadata": {
    "id": "VfO8IT1J0Umn"
   },
   "outputs": [],
   "source": [
    "!pip install trackers\n",
    "import trackers"
   ]
  },
  {
   "cell_type": "markdown",
   "metadata": {
    "id": "kYOR2aiwu5Kg"
   },
   "source": [
    "## GOOGLE DRIVE MOUNT"
   ]
  },
  {
   "cell_type": "code",
   "execution_count": null,
   "metadata": {
    "colab": {
     "base_uri": "https://localhost:8080/"
    },
    "executionInfo": {
     "elapsed": 8080,
     "status": "ok",
     "timestamp": 1747696735526,
     "user": {
      "displayName": "Furkan Baran",
      "userId": "16929650656431150556"
     },
     "user_tz": -180
    },
    "id": "YpAicv4nufw1",
    "outputId": "1d4d17fb-df83-407d-84d5-f89969eb588e"
   },
   "outputs": [
    {
     "name": "stdout",
     "output_type": "stream",
     "text": [
      "Mounted at /content/drive\n"
     ]
    }
   ],
   "source": [
    "from google.colab import drive\n",
    "drive.flush_and_unmount()\n",
    "drive.mount('/content/drive')"
   ]
  },
  {
   "cell_type": "markdown",
   "metadata": {
    "id": "32ih7znedLMl"
   },
   "source": [
    "# RESTORE DATA"
   ]
  },
  {
   "cell_type": "code",
   "execution_count": null,
   "metadata": {
    "colab": {
     "base_uri": "https://localhost:8080/"
    },
    "executionInfo": {
     "elapsed": 427,
     "status": "ok",
     "timestamp": 1747696726534,
     "user": {
      "displayName": "Furkan Baran",
      "userId": "16929650656431150556"
     },
     "user_tz": -180
    },
    "id": "3LW2VpU8cuX4",
    "outputId": "cc92482f-f275-4880-c31d-018f70f36863"
   },
   "outputs": [
    {
     "name": "stdout",
     "output_type": "stream",
     "text": [
      "/content\n"
     ]
    }
   ],
   "source": [
    "%cd \"/content\"\n",
    "!cp \"/content/drive/MyDrive/Colab Notebooks/MVI_1482_VIS.avi\" .\n",
    "\n",
    "!cp \"/content/drive/MyDrive/Colab Notebooks/maritime-best.pt\" .\n",
    "\n",
    "!cp \"/content/drive/MyDrive/Colab Notebooks/gt.txt\" .\n"
   ]
  },
  {
   "cell_type": "code",
   "execution_count": null,
   "metadata": {
    "id": "-oIZpoCL3p9l"
   },
   "outputs": [],
   "source": [
    "SOURCE_VIDEO_PATH = \"/content/drive/MyDrive/Colab Notebooks/MVI_1482_VIS.avi\""
   ]
  },
  {
   "cell_type": "code",
   "execution_count": null,
   "metadata": {
    "id": "LoDyJf1_bZ3U"
   },
   "outputs": [],
   "source": [
    "MODEL_PATH = \"/content/maritime-best.pt\""
   ]
  },
  {
   "cell_type": "markdown",
   "metadata": {
    "id": "2LKV7_-Av3UB"
   },
   "source": [
    "# Model Import"
   ]
  },
  {
   "cell_type": "code",
   "execution_count": null,
   "metadata": {
    "collapsed": true,
    "id": "7r28OkjcNfCx"
   },
   "outputs": [],
   "source": [
    "model = YOLO(MODEL_PATH)\n"
   ]
  },
  {
   "cell_type": "code",
   "execution_count": null,
   "metadata": {
    "colab": {
     "base_uri": "https://localhost:8080/"
    },
    "executionInfo": {
     "elapsed": 25,
     "status": "ok",
     "timestamp": 1747696753118,
     "user": {
      "displayName": "Furkan Baran",
      "userId": "16929650656431150556"
     },
     "user_tz": -180
    },
    "id": "GAu7r5wj3Nuq",
    "outputId": "dab18ccd-02f9-400c-b95c-e429f248ca05"
   },
   "outputs": [
    {
     "name": "stdout",
     "output_type": "stream",
     "text": [
      "{0: 'Boat', 1: 'Buoy', 2: 'Ferry', 3: 'Flying bird-plane', 4: 'Kayak', 5: 'Other', 6: 'Sail boat', 7: 'Speed boat', 8: 'Vessel-ship'}\n"
     ]
    }
   ],
   "source": [
    "# dict maping class_id to class_name\n",
    "CLASS_NAMES_DICT = model.model.names\n",
    "print(CLASS_NAMES_DICT)\n",
    "# class ids matching the class names we have chosen // Ferry only\n",
    "SELECTED_CLASS_IDS = [2]"
   ]
  },
  {
   "cell_type": "code",
   "execution_count": null,
   "metadata": {
    "id": "UE5CoHnlRCvV"
   },
   "outputs": [],
   "source": [
    "# dict maping class_id to class_name\n",
    "CLASS_NAMES_DICT = model.model.names\n",
    "\n",
    "\n"
   ]
  },
  {
   "cell_type": "markdown",
   "metadata": {
    "id": "A51idcpiwOA3"
   },
   "source": [
    "# MODEL FRAME TEST"
   ]
  },
  {
   "cell_type": "code",
   "execution_count": null,
   "metadata": {
    "colab": {
     "base_uri": "https://localhost:8080/",
     "height": 734
    },
    "executionInfo": {
     "elapsed": 7578,
     "status": "ok",
     "timestamp": 1747696786740,
     "user": {
      "displayName": "Furkan Baran",
      "userId": "16929650656431150556"
     },
     "user_tz": -180
    },
    "id": "La1q9M7cRIBL",
    "outputId": "a5d1abff-a530-4683-af00-7e75d4de8e3c"
   },
   "outputs": [],
   "source": [
    "# create frame generator\n",
    "generator = sv.get_video_frames_generator(SOURCE_VIDEO_PATH)\n",
    "# create instance of BoxAnnotator and LabelAnnotator\n",
    "box_annotator = sv.BoxAnnotator(thickness=4)\n",
    "label_annotator = sv.LabelAnnotator(text_thickness=2, text_scale=1.5, text_color=sv.Color.BLACK)\n",
    "# acquire first video frame\n",
    "iterator = iter(generator)\n",
    "frame = next(iterator)\n",
    "# model prediction on single frame and conversion to supervision Detections\n",
    "results = model(frame, verbose=False)[0]\n",
    "\n",
    "# convert to Detections\n",
    "detections = sv.Detections.from_ultralytics(results)\n",
    "# only consider class id from selected_classes define above\n",
    "detections = detections[np.isin(detections.class_id, SELECTED_CLASS_IDS)]\n",
    "\n",
    "# format custom labels\n",
    "labels = [\n",
    "    f\"{CLASS_NAMES_DICT[class_id]} {confidence:0.2f}\"\n",
    "    for confidence, class_id in zip(detections.confidence, detections.class_id)\n",
    "]\n",
    "\n",
    "# annotate and display frame\n",
    "annotated_frame = frame.copy()\n",
    "annotated_frame = box_annotator.annotate(\n",
    "    scene=annotated_frame, detections=detections)\n",
    "annotated_frame = label_annotator.annotate(\n",
    "    scene=annotated_frame, detections=detections, labels=labels)\n",
    "\n",
    "%matplotlib inline\n",
    "sv.plot_image(annotated_frame, (16, 16))"
   ]
  },
  {
   "cell_type": "markdown",
   "metadata": {
    "id": "tVraSSPpwqZ2"
   },
   "source": [
    "# TRACK"
   ]
  },
  {
   "cell_type": "code",
   "execution_count": null,
   "metadata": {
    "colab": {
     "base_uri": "https://localhost:8080/"
    },
    "executionInfo": {
     "elapsed": 5151,
     "status": "ok",
     "timestamp": 1747696998753,
     "user": {
      "displayName": "Furkan Baran",
      "userId": "16929650656431150556"
     },
     "user_tz": -180
    },
    "id": "Z30Laa_R27l8",
    "outputId": "07bed0f2-0ed5-4484-92f0-ec6bf3d8395c"
   },
   "outputs": [
    {
     "name": "stdout",
     "output_type": "stream",
     "text": [
      "\u001b[?25l   \u001b[90m━━━━━━━━━━━━━━━━━━━━━━━━━━━━━━━━━━━━━━━━\u001b[0m \u001b[32m0.0/8.4 MB\u001b[0m \u001b[31m?\u001b[0m eta \u001b[36m-:--:--\u001b[0m\r\u001b[2K   \u001b[91m━━━━━━━━━━━━━━\u001b[0m\u001b[91m╸\u001b[0m\u001b[90m━━━━━━━━━━━━━━━━━━━━━━━━━\u001b[0m \u001b[32m3.1/8.4 MB\u001b[0m \u001b[31m104.5 MB/s\u001b[0m eta \u001b[36m0:00:01\u001b[0m\r\u001b[2K   \u001b[91m━━━━━━━━━━━━━━━━━━━━━━━━━━━━━━━━━━━\u001b[0m\u001b[91m╸\u001b[0m\u001b[90m━━━━\u001b[0m \u001b[32m7.5/8.4 MB\u001b[0m \u001b[31m105.9 MB/s\u001b[0m eta \u001b[36m0:00:01\u001b[0m\r\u001b[2K   \u001b[91m━━━━━━━━━━━━━━━━━━━━━━━━━━━━━━━━━━━━━━━\u001b[0m\u001b[91m╸\u001b[0m \u001b[32m8.4/8.4 MB\u001b[0m \u001b[31m107.1 MB/s\u001b[0m eta \u001b[36m0:00:01\u001b[0m\r\u001b[2K   \u001b[90m━━━━━━━━━━━━━━━━━━━━━━━━━━━━━━━━━━━━━━━━\u001b[0m \u001b[32m8.4/8.4 MB\u001b[0m \u001b[31m73.4 MB/s\u001b[0m eta \u001b[36m0:00:00\u001b[0m\n",
      "\u001b[?25h"
     ]
    }
   ],
   "source": [
    "!pip install -q deep_sort_realtime\n",
    "from deep_sort_realtime.deepsort_tracker import DeepSort"
   ]
  },
  {
   "cell_type": "code",
   "execution_count": null,
   "metadata": {
    "id": "2D1DL3i_wDoZ"
   },
   "outputs": [],
   "source": [
    "from deep_sort_realtime.deepsort_tracker import DeepSort\n",
    "\n",
    "def process_video_with_deepsort(video_path,\n",
    "                                model,\n",
    "                                output_file,\n",
    "                                video_output_path):\n",
    "    \"\"\"\n",
    "    YOLOv8 + deep_sort_realtime\n",
    "    - ids 1,2,3...\n",
    "    - MOT-Challenge txt\n",
    "    - Annotated mp4\n",
    "    \"\"\"\n",
    "\n",
    "    # ---------- 1) Tracker ---------- #\n",
    "    deepsort = DeepSort(\n",
    "        max_age=70,\n",
    "        n_init=3,\n",
    "        nms_max_overlap=1.0,\n",
    "        max_cosine_distance=0.3,\n",
    "        embedder=\"mobilenet\",\n",
    "        half=True,\n",
    "        bgr=True,\n",
    "        embedder_gpu=True\n",
    "    )\n",
    "\n",
    "    # ---------- 2) Video I/O -------- #\n",
    "    cap  = cv2.VideoCapture(video_path)\n",
    "    w, h = int(cap.get(3)), int(cap.get(4))\n",
    "    fps  = int(cap.get(5))\n",
    "\n",
    "    out = cv2.VideoWriter(video_output_path,\n",
    "                          cv2.VideoWriter_fourcc(*'mp4v'),\n",
    "                          fps, (w, h))\n",
    "\n",
    "    box_annot   = sv.BoxAnnotator()\n",
    "    label_annot = sv.LabelAnnotator(text_thickness=2, text_scale=1.5,\n",
    "                                    text_color=sv.Color.BLACK)\n",
    "\n",
    "    frame_id, next_id = 1, 1\n",
    "    id_remap = {}                # {raw_id : 1…N}\n",
    "\n",
    "    # ---------- 3) Loop ------------ #\n",
    "    with open(output_file, \"w\") as f:\n",
    "        while cap.isOpened():\n",
    "            ret, frame = cap.read()\n",
    "            if not ret:\n",
    "                break\n",
    "\n",
    "            # ---- 3.1  YOLO ---------- #\n",
    "            res  = model(frame, verbose=False)[0]\n",
    "            dets = sv.Detections.from_ultralytics(res)\n",
    "\n",
    "            mask = np.isin(dets.class_id, SELECTED_CLASS_IDS)\n",
    "            dets = dets[mask]\n",
    "            dets = dets[dets.confidence > 0.5]\n",
    "\n",
    "            # ---- 3.2  DeepSort Entry #\n",
    "            ds_inp = []\n",
    "            for xyxy, conf, cls in zip(dets.xyxy,\n",
    "                                       dets.confidence,\n",
    "                                       dets.class_id):\n",
    "                x1,y1,x2,y2 = xyxy\n",
    "                ds_inp.append(([float(x1),\n",
    "                                float(y1),\n",
    "                                float(x2 - x1),\n",
    "                                float(y2 - y1)],\n",
    "                               float(conf),\n",
    "                               int(cls)))\n",
    "\n",
    "            # ---- 3.3 Tracking ---------- #\n",
    "            tracks = deepsort.update_tracks(ds_inp, frame=frame)\n",
    "\n",
    "            draw_boxes, draw_ids, draw_confs = [], [], []\n",
    "            for trk in tracks:\n",
    "                if not trk.is_confirmed():\n",
    "                    continue\n",
    "                x1,y1,x2,y2 = trk.to_ltrb()        # XYXY\n",
    "                raw_id      = trk.track_id\n",
    "                conf        = trk.det_conf if trk.det_conf else 1.0\n",
    "\n",
    "                # id remap → 1,2,3…\n",
    "                if raw_id not in id_remap:\n",
    "                    id_remap[raw_id] = next_id\n",
    "                    next_id += 1\n",
    "                new_id = id_remap[raw_id]\n",
    "\n",
    "                # MOT satırı\n",
    "                f.write(f\"{frame_id},{new_id},{x1:.2f},{y1:.2f},\"\n",
    "                        f\"{(x2 - x1):.2f},{(y2 - y1):.2f},\"\n",
    "                        f\"{conf:.4f},-1,-1,-1\\n\")\n",
    "\n",
    "                draw_boxes.append([x1,y1,x2,y2])\n",
    "                draw_ids.append(new_id)\n",
    "                draw_confs.append(conf)\n",
    "\n",
    "            # ---- 3.4  Drawing ---------- #\n",
    "            if draw_boxes:\n",
    "                det_draw = sv.Detections(\n",
    "                    xyxy=np.array(draw_boxes, dtype=np.float32),\n",
    "                    confidence=np.array(draw_confs, dtype=np.float32),\n",
    "                    class_id=np.zeros(len(draw_boxes), dtype=int),\n",
    "                    tracker_id=np.array(draw_ids, dtype=int)\n",
    "                )\n",
    "                labels = [f\"#{i} Ferry ({c:.2f})\"\n",
    "                          for i, c in zip(draw_ids, draw_confs)]\n",
    "                frame  = box_annot.annotate(frame, det_draw)\n",
    "                frame  = label_annot.annotate(frame, det_draw, labels)\n",
    "\n",
    "            out.write(frame)\n",
    "            frame_id += 1\n",
    "\n",
    "    cap.release()\n",
    "    out.release()\n",
    "    return id_remap"
   ]
  },
  {
   "cell_type": "markdown",
   "metadata": {
    "id": "IC-GplG-zW8l"
   },
   "source": [
    "## Run\n"
   ]
  },
  {
   "cell_type": "code",
   "execution_count": null,
   "metadata": {
    "colab": {
     "base_uri": "https://localhost:8080/"
    },
    "executionInfo": {
     "elapsed": 8758,
     "status": "ok",
     "timestamp": 1747697094519,
     "user": {
      "displayName": "Furkan Baran",
      "userId": "16929650656431150556"
     },
     "user_tz": -180
    },
    "id": "ppU3Vmyf3SXw",
    "outputId": "c936c775-3765-4908-e8c2-2bc4f9f76659"
   },
   "outputs": [],
   "source": [
    "!pip install --only-binary=numpy numpy==1.26.4"
   ]
  },
  {
   "cell_type": "code",
   "execution_count": null,
   "metadata": {
    "colab": {
     "base_uri": "https://localhost:8080/"
    },
    "executionInfo": {
     "elapsed": 43595,
     "status": "ok",
     "timestamp": 1747697226202,
     "user": {
      "displayName": "Furkan Baran",
      "userId": "16929650656431150556"
     },
     "user_tz": -180
    },
    "id": "f67jxGOGzWPN",
    "outputId": "637229ac-18a1-45e5-a01a-d79cfdde3448"
   },
   "outputs": [],
   "source": [
    "%cd /content/\n",
    "# Run DeepSORT tracking\n",
    "print(\"\\nRunning DeepSORT tracking...\")\n",
    "deepsort_id_map = process_video_with_deepsort(\n",
    "    SOURCE_VIDEO_PATH,\n",
    "    model,\n",
    "    'deepsort_results.txt',\n",
    "    'deepsort_tracking_output.mp4'\n",
    ")\n",
    "\n"
   ]
  },
  {
   "cell_type": "markdown",
   "metadata": {
    "id": "MnSPBpsYzaSv"
   },
   "source": [
    "## Save video outputs to GDrive and Print"
   ]
  },
  {
   "cell_type": "code",
   "execution_count": null,
   "metadata": {
    "colab": {
     "base_uri": "https://localhost:8080/"
    },
    "executionInfo": {
     "elapsed": 427,
     "status": "ok",
     "timestamp": 1747697250161,
     "user": {
      "displayName": "Furkan Baran",
      "userId": "16929650656431150556"
     },
     "user_tz": -180
    },
    "id": "kwuSO7J0wQlO",
    "outputId": "67837f9f-d066-4ffe-fa6b-1083c19251a5"
   },
   "outputs": [],
   "source": [
    "output_dir = \"/content/drive/MyDrive/Colab Notebooks/deepsort\"\n",
    "os.makedirs(output_dir, exist_ok=True)\n",
    "\n",
    "# Save DeepSORT outputs to GDrive\n",
    "!cp deepsort_tracking_output.mp4 \"/content/drive/MyDrive/Colab Notebooks/deepsort/\"\n",
    "!cp deepsort_results.txt \"/content/drive/MyDrive/Colab Notebooks/deepsort/\"\n",
    "\n",
    "# Check DeepSORT results\n",
    "df_sort = pd.read_csv('deepsort_results.txt', header=None,\n",
    "                     names=['frame', 'id', 'bb_left', 'bb_top', 'bb_width', 'bb_height', 'conf', 'x', 'y', 'z'])\n",
    "\n",
    "print(\"\\nDeepSORT Stats:\")\n",
    "print(f\"Total frame count: {df_sort['frame'].nunique()}\")\n",
    "print(f\"Total track count: {df_sort['id'].nunique()}\")\n",
    "print(\"\\nTrack ID counts:\")\n",
    "print(df_sort.groupby('id').size())"
   ]
  }
 ],
 "metadata": {
  "accelerator": "GPU",
  "colab": {
   "authorship_tag": "ABX9TyNCjHoUCg2WEn/jwbsCOPbe",
   "gpuType": "T4",
   "provenance": []
  },
  "kernelspec": {
   "display_name": "Python 3",
   "name": "python3"
  },
  "language_info": {
   "name": "python"
  }
 },
 "nbformat": 4,
 "nbformat_minor": 0
}
