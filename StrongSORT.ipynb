{
 "cells": [
  {
   "cell_type": "markdown",
   "metadata": {
    "id": "ku30yx4fzuT9"
   },
   "source": [
    "# SETUP"
   ]
  },
  {
   "cell_type": "code",
   "execution_count": 1,
   "metadata": {
    "colab": {
     "base_uri": "https://localhost:8080/"
    },
    "executionInfo": {
     "elapsed": 53,
     "status": "ok",
     "timestamp": 1750367994433,
     "user": {
      "displayName": "Furkan Baran",
      "userId": "16929650656431150556"
     },
     "user_tz": -180
    },
    "id": "-Xaou5UJuUhr",
    "outputId": "18228844-dc29-479d-9f58-6f459ce9b3b4"
   },
   "outputs": [
    {
     "name": "stdout",
     "output_type": "stream",
     "text": [
      "/content\n"
     ]
    }
   ],
   "source": [
    "import os\n",
    "HOME = os.getcwd()\n",
    "print(HOME)"
   ]
  },
  {
   "cell_type": "code",
   "execution_count": null,
   "metadata": {
    "colab": {
     "base_uri": "https://localhost:8080/"
    },
    "collapsed": true,
    "executionInfo": {
     "elapsed": 140313,
     "status": "ok",
     "timestamp": 1750368134748,
     "user": {
      "displayName": "Furkan Baran",
      "userId": "16929650656431150556"
     },
     "user_tz": -180
    },
    "id": "GbU5zA4BvJ9X",
    "outputId": "5967d73f-227e-4ec8-ff36-9a8b4f4b1fcf"
   },
   "outputs": [],
   "source": [
    "!pip install boxmot ultralytics supervision\n",
    "\n"
   ]
  },
  {
   "cell_type": "code",
   "execution_count": null,
   "metadata": {
    "colab": {
     "base_uri": "https://localhost:8080/"
    },
    "executionInfo": {
     "elapsed": 11152,
     "status": "ok",
     "timestamp": 1750368145903,
     "user": {
      "displayName": "Furkan Baran",
      "userId": "16929650656431150556"
     },
     "user_tz": -180
    },
    "id": "y875yed8v0KR",
    "outputId": "c412df8a-6b2f-406e-9cef-3e7a0d487983"
   },
   "outputs": [],
   "source": [
    "import ultralytics\n",
    "from ultralytics import YOLO\n",
    "import supervision as sv\n",
    "import cv2\n",
    "import numpy as np\n",
    "import torch\n",
    "import time\n",
    "import matplotlib.pyplot as plt\n",
    "import pandas as pd"
   ]
  },
  {
   "cell_type": "markdown",
   "metadata": {
    "id": "kYOR2aiwu5Kg"
   },
   "source": [
    "## GOOGLE DRIVE MOUNT"
   ]
  },
  {
   "cell_type": "code",
   "execution_count": null,
   "metadata": {
    "colab": {
     "base_uri": "https://localhost:8080/"
    },
    "id": "YpAicv4nufw1",
    "outputId": "200ceced-0e11-43ee-db2b-0b93e47fc975"
   },
   "outputs": [
    {
     "name": "stdout",
     "output_type": "stream",
     "text": [
      "Drive not mounted, so nothing to flush and unmount.\n"
     ]
    }
   ],
   "source": [
    "from google.colab import drive\n",
    "drive.flush_and_unmount()\n",
    "drive.mount('/content/drive')"
   ]
  },
  {
   "cell_type": "markdown",
   "metadata": {
    "id": "32ih7znedLMl"
   },
   "source": [
    "# RESTORE DATA"
   ]
  },
  {
   "cell_type": "code",
   "execution_count": null,
   "metadata": {
    "executionInfo": {
     "elapsed": 8,
     "status": "aborted",
     "timestamp": 1750368171429,
     "user": {
      "displayName": "Furkan Baran",
      "userId": "16929650656431150556"
     },
     "user_tz": -180
    },
    "id": "3LW2VpU8cuX4"
   },
   "outputs": [],
   "source": [
    "%cd \"/content\"\n",
    "!cp \"/content/drive/MyDrive/Colab Notebooks/MVI_1482_VIS.avi\" .\n",
    "\n",
    "!cp \"/content/drive/MyDrive/Colab Notebooks/maritime-best.pt\" .\n",
    "\n",
    "!cp \"/content/drive/MyDrive/Colab Notebooks/gt.txt\" .\n"
   ]
  },
  {
   "cell_type": "code",
   "execution_count": null,
   "metadata": {
    "executionInfo": {
     "elapsed": 177247,
     "status": "aborted",
     "timestamp": 1750368171435,
     "user": {
      "displayName": "Furkan Baran",
      "userId": "16929650656431150556"
     },
     "user_tz": -180
    },
    "id": "-oIZpoCL3p9l"
   },
   "outputs": [],
   "source": [
    "SOURCE_VIDEO_PATH = \"/content/drive/MyDrive/Colab Notebooks/MVI_1482_VIS.avi\""
   ]
  },
  {
   "cell_type": "code",
   "execution_count": null,
   "metadata": {
    "executionInfo": {
     "elapsed": 176327,
     "status": "aborted",
     "timestamp": 1750368171442,
     "user": {
      "displayName": "Furkan Baran",
      "userId": "16929650656431150556"
     },
     "user_tz": -180
    },
    "id": "LoDyJf1_bZ3U"
   },
   "outputs": [],
   "source": [
    "MODEL_PATH = \"/content/maritime-best.pt\""
   ]
  },
  {
   "cell_type": "markdown",
   "metadata": {
    "id": "2LKV7_-Av3UB"
   },
   "source": [
    "# Model Import"
   ]
  },
  {
   "cell_type": "code",
   "execution_count": null,
   "metadata": {
    "collapsed": true,
    "executionInfo": {
     "elapsed": 174695,
     "status": "aborted",
     "timestamp": 1750368171445,
     "user": {
      "displayName": "Furkan Baran",
      "userId": "16929650656431150556"
     },
     "user_tz": -180
    },
    "id": "7r28OkjcNfCx"
   },
   "outputs": [],
   "source": [
    "model = YOLO(MODEL_PATH)\n"
   ]
  },
  {
   "cell_type": "code",
   "execution_count": null,
   "metadata": {
    "executionInfo": {
     "elapsed": 173307,
     "status": "aborted",
     "timestamp": 1750368171446,
     "user": {
      "displayName": "Furkan Baran",
      "userId": "16929650656431150556"
     },
     "user_tz": -180
    },
    "id": "UE5CoHnlRCvV"
   },
   "outputs": [],
   "source": [
    "# dict maping class_id to class_name\n",
    "CLASS_NAMES_DICT = model.model.names\n",
    "print(CLASS_NAMES_DICT)\n",
    "\n",
    "# class ids matching the class names we have chosen // Ferry only\n",
    "SELECTED_CLASS_IDS = [2]"
   ]
  },
  {
   "cell_type": "markdown",
   "metadata": {
    "id": "A51idcpiwOA3"
   },
   "source": [
    "# MODEL FRAME TEST"
   ]
  },
  {
   "cell_type": "code",
   "execution_count": null,
   "metadata": {
    "id": "La1q9M7cRIBL"
   },
   "outputs": [],
   "source": [
    "# create frame generator\n",
    "generator = sv.get_video_frames_generator(SOURCE_VIDEO_PATH)\n",
    "# create instance of BoxAnnotator and LabelAnnotator\n",
    "box_annotator = sv.BoxAnnotator(thickness=4)\n",
    "label_annotator = sv.LabelAnnotator(text_thickness=2, text_scale=1.5, text_color=sv.Color.BLACK)\n",
    "# acquire first video frame\n",
    "iterator = iter(generator)\n",
    "frame = next(iterator)\n",
    "# model prediction on single frame and conversion to supervision Detections\n",
    "results = model(frame, verbose=False)[0]\n",
    "\n",
    "# convert to Detections\n",
    "detections = sv.Detections.from_ultralytics(results)\n",
    "# only consider class id from selected_classes define above\n",
    "detections = detections[np.isin(detections.class_id, SELECTED_CLASS_IDS)]\n",
    "\n",
    "# format custom labels\n",
    "labels = [\n",
    "    f\"{CLASS_NAMES_DICT[class_id]} {confidence:0.2f}\"\n",
    "    for confidence, class_id in zip(detections.confidence, detections.class_id)\n",
    "]\n",
    "\n",
    "# annotate and display frame\n",
    "annotated_frame = frame.copy()\n",
    "annotated_frame = box_annotator.annotate(\n",
    "    scene=annotated_frame, detections=detections)\n",
    "annotated_frame = label_annotator.annotate(\n",
    "    scene=annotated_frame, detections=detections, labels=labels)\n",
    "\n",
    "%matplotlib inline\n",
    "sv.plot_image(annotated_frame, (16, 16))"
   ]
  },
  {
   "cell_type": "markdown",
   "metadata": {
    "id": "_RdVuKpg9MDv"
   },
   "source": [
    "# StrongSort"
   ]
  },
  {
   "cell_type": "markdown",
   "metadata": {
    "id": "D3QTK_PsJcNW"
   },
   "source": [
    "# Track"
   ]
  },
  {
   "cell_type": "code",
   "execution_count": null,
   "metadata": {
    "colab": {
     "base_uri": "https://localhost:8080/"
    },
    "executionInfo": {
     "elapsed": 17831,
     "status": "ok",
     "timestamp": 1750358874293,
     "user": {
      "displayName": "Furkan Baran",
      "userId": "16929650656431150556"
     },
     "user_tz": -180
    },
    "id": "qFd4zwLUsND8",
    "outputId": "02d8a302-44c0-4a8f-d359-d4f48c9d66be"
   },
   "outputs": [],
   "source": [
    "!pip install boxmot\n"
   ]
  },
  {
   "cell_type": "code",
   "execution_count": null,
   "metadata": {
    "id": "Jl2uejZp88C-"
   },
   "outputs": [],
   "source": [
    "import numpy as np\n",
    "import cv2\n",
    "from pathlib import Path\n",
    "from boxmot.trackers.strongsort.strongsort import StrongSort\n",
    "import supervision as sv\n",
    "\n",
    "def process_video_with_strongsort_and_trails(\n",
    "        video_path,\n",
    "        model,\n",
    "        output_file,\n",
    "        video_output_path,\n",
    "        reid_weights='osnet_x0_25_market1501.pt',\n",
    "        selected_class_ids=[2],\n",
    "        confidence_thr=0.5,\n",
    "        device='cpu',\n",
    "        annotate=True,\n",
    "        trail_length=40                 \n",
    "    ):\n",
    "\n",
    "    tracker = StrongSort(\n",
    "        reid_weights=Path(reid_weights),\n",
    "        device=device,\n",
    "        half=False\n",
    "    )\n",
    "\n",
    "    cap = cv2.VideoCapture(video_path)\n",
    "    width = int(cap.get(cv2.CAP_PROP_FRAME_WIDTH))\n",
    "    height = int(cap.get(cv2.CAP_PROP_FRAME_HEIGHT))\n",
    "    fps = int(cap.get(cv2.CAP_PROP_FPS))\n",
    "\n",
    "    out = cv2.VideoWriter(\n",
    "        video_output_path,\n",
    "        cv2.VideoWriter_fourcc(*'mp4v'),\n",
    "        fps, (width, height)\n",
    "    )\n",
    "\n",
    "    if annotate:\n",
    "        box_annotator = sv.BoxAnnotator(thickness=4)\n",
    "        label_annotator = sv.LabelAnnotator(text_thickness=2, text_scale=1.5, text_color=sv.Color.BLACK)\n",
    "        class_names_dict = model.model.names\n",
    "\n",
    "    frame_id = 1\n",
    "    trails = {}\n",
    "\n",
    "    with open(output_file, 'w') as f:\n",
    "        while cap.isOpened():\n",
    "            ret, frame = cap.read()\n",
    "            if not ret:\n",
    "                break\n",
    "\n",
    "            results = model.predict(frame, verbose=False)[0]\n",
    "            boxes = results.boxes.xyxy.cpu().numpy()\n",
    "            confs = results.boxes.conf.cpu().numpy()\n",
    "            classes = results.boxes.cls.cpu().numpy().astype(int)\n",
    "\n",
    "            mask1 = np.isin(classes, selected_class_ids)\n",
    "            boxes = boxes[mask1]\n",
    "            confs = confs[mask1]\n",
    "            classes = classes[mask1]\n",
    "            mask2 = confs > confidence_thr\n",
    "            boxes = boxes[mask2]\n",
    "            confs = confs[mask2]\n",
    "            classes = classes[mask2]\n",
    "\n",
    "            if len(boxes) > 0:\n",
    "                dets = np.hstack([boxes, confs[:, None], classes[:, None]])   # (N, 6)\n",
    "                tracks = tracker.update(dets, frame)   # (M, 8): x1, y1, x2, y2, track_id, conf, class_id, det_ind\n",
    "            else:\n",
    "                tracks = tracker.update(np.empty((0,6)), frame)\n",
    "\n",
    "            if annotate:\n",
    "                sv_boxes = []\n",
    "                sv_confs = []\n",
    "                sv_class_ids = []\n",
    "                sv_track_ids = []\n",
    "\n",
    "            for trk in tracks:\n",
    "                x1, y1, x2, y2, track_id, conf, class_id = trk[:7]\n",
    "                w, h = x2 - x1, y2 - y1\n",
    "                f.write(f\"{frame_id},{int(track_id)},{x1:.1f},{y1:.1f},{w:.1f},{h:.1f},{conf:.2f},-1,-1,-1\\n\")\n",
    "\n",
    "                if annotate:\n",
    "                    sv_boxes.append([x1, y1, x2, y2])\n",
    "                    sv_confs.append(conf)\n",
    "                    sv_class_ids.append(class_id)\n",
    "                    sv_track_ids.append(track_id)\n",
    "\n",
    "                    # TRAIL \n",
    "                    center = (int((x1+x2)/2), int((y1+y2)/2))\n",
    "                    tid = int(track_id)\n",
    "                    if tid not in trails:\n",
    "                        trails[tid] = []\n",
    "                    trails[tid].append(center)\n",
    "                    # limite et\n",
    "                    if len(trails[tid]) > trail_length:\n",
    "                        trails[tid] = trails[tid][-trail_length:]\n",
    "\n",
    "            if annotate:\n",
    "                dets = sv.Detections(\n",
    "                    xyxy=np.array(sv_boxes) if sv_boxes else np.zeros((0, 4)),\n",
    "                    confidence=np.array(sv_confs) if sv_confs else np.array([]),\n",
    "                    class_id=np.array(sv_class_ids, dtype=int) if sv_class_ids else np.array([], dtype=int),\n",
    "                    tracker_id=np.array(sv_track_ids, dtype=int) if sv_track_ids else np.array([], dtype=int),\n",
    "                )\n",
    "                labels = [f\"#{int(tid)} {class_names_dict.get(int(cid),'?')} ({conf:.2f})\"\n",
    "                          for tid, cid, conf in zip(sv_track_ids, sv_class_ids, sv_confs)]\n",
    "                frame = box_annotator.annotate(scene=frame, detections=dets)\n",
    "                frame = label_annotator.annotate(scene=frame, detections=dets, labels=labels)\n",
    "\n",
    "            # Tracker line\n",
    "            for tid, points in trails.items():\n",
    "                if len(points) > 1:\n",
    "                    for i in range(1, len(points)):\n",
    "                        cv2.line(frame, points[i-1], points[i], (0, 255, 255), 2)\n",
    "\n",
    "            out.write(frame)\n",
    "            frame_id += 1\n",
    "\n",
    "    cap.release()\n",
    "    out.release()\n"
   ]
  },
  {
   "cell_type": "code",
   "execution_count": null,
   "metadata": {
    "colab": {
     "base_uri": "https://localhost:8080/",
     "height": 228
    },
    "executionInfo": {
     "elapsed": 909,
     "status": "error",
     "timestamp": 1750361131082,
     "user": {
      "displayName": "Furkan Baran",
      "userId": "16929650656431150556"
     },
     "user_tz": -180
    },
    "id": "NL0NlxFZC2-x",
    "outputId": "1ea80edb-d52c-40d6-cdeb-cc32de7c74c7"
   },
   "outputs": [],
   "source": [
    "%cd /content\n",
    "\n",
    "process_video_with_strongsort_and_trails(\n",
    "    video_path=\"/content/MVI_1482_VIS.avi\",\n",
    "    model=model,\n",
    "    output_file=\"strongsort_results.txt\",\n",
    "    video_output_path=\"strongsort_tracking_output.mp4\",\n",
    "    reid_weights=\"osnet_x0_25_market1501.pt\",\n",
    "    selected_class_ids=[2],\n",
    "    confidence_thr=0.5,\n",
    "    device=\"cuda:0\",\n",
    "    annotate=True,\n",
    "    trail_length=30       \n",
    ")"
   ]
  },
  {
   "cell_type": "code",
   "execution_count": null,
   "metadata": {
    "colab": {
     "base_uri": "https://localhost:8080/"
    },
    "executionInfo": {
     "elapsed": 9538,
     "status": "ok",
     "timestamp": 1750359232596,
     "user": {
      "displayName": "Furkan Baran",
      "userId": "16929650656431150556"
     },
     "user_tz": -180
    },
    "id": "VCpzIUgXocL5",
    "outputId": "f73ff616-b5f0-4d32-d017-74309c01f44e"
   },
   "outputs": [],
   "source": [
    "output_dir = \"/content/drive/MyDrive/Colab Notebooks/strongsort\"\n",
    "os.makedirs(output_dir, exist_ok=True)\n",
    "\n",
    "# Save StrongSORT outputs to GDrive\n",
    "!cp strongsort_tracking_output.mp4 \"/content/drive/MyDrive/Colab Notebooks/strongsort/\"\n",
    "!cp strongsort_results.txt \"/content/drive/MyDrive/Colab Notebooks/strongsort/\"\n",
    "\n",
    "# Check StrongSORT results\n",
    "df_sort = pd.read_csv('strongsort_results.txt', header=None,\n",
    "                     names=['frame', 'id', 'bb_left', 'bb_top', 'bb_width', 'bb_height', 'conf', 'x', 'y', 'z'])\n",
    "\n",
    "print(\"\\nStrongSORT Stats:\")\n",
    "print(f\"Total frame count: {df_sort['frame'].nunique()}\")\n",
    "print(f\"Total track count: {df_sort['id'].nunique()}\")\n",
    "print(\"\\nTrack ID counts:\")\n",
    "print(df_sort.groupby('id').size())"
   ]
  }
 ],
 "metadata": {
  "colab": {
   "authorship_tag": "ABX9TyMjgqm7DnaXDmESsz6eEESq",
   "provenance": [
    {
     "file_id": "1l-MKz_xPgfVjk4NDfMmX4rZ00fJQKxwg",
     "timestamp": 1748345406350
    },
    {
     "file_id": "1i4yar6Rpx2RBA_NXNG3HgJOzveSkBMx3",
     "timestamp": 1746887323447
    }
   ]
  },
  "kernelspec": {
   "display_name": "Python 3",
   "name": "python3"
  },
  "language_info": {
   "name": "python"
  }
 },
 "nbformat": 4,
 "nbformat_minor": 0
}
